{
 "cells": [
  {
   "cell_type": "code",
   "execution_count": 1,
   "outputs": [],
   "source": [
    "from qnet.log_init import initialize_logger\n",
    "initialize_logger()\n"
   ],
   "metadata": {
    "collapsed": false,
    "pycharm": {
     "name": "#%%\n"
    }
   }
  },
  {
   "cell_type": "code",
   "execution_count": 2,
   "outputs": [],
   "source": [
    "from qnet.study import OptunaStudy\n",
    "from qnet import ROOT\n",
    "import yaml\n",
    "import os\n",
    "import pandas as pd\n",
    "from sklearn.model_selection import train_test_split\n",
    "df = pd.read_csv(os.path.join(ROOT, \"data/kin8nm.csv\"))\n",
    "\n",
    "train_df, test_df = train_test_split(df, test_size=0.1, random_state=42)\n",
    "\n",
    "base_config_path = os.path.join(ROOT, \"experiments/base_config.yaml\")\n",
    "\n",
    "base_config = yaml.full_load(open(base_config_path))\n",
    "model_config = {\n",
    "    \"categorical_features\":[],\n",
    "    \"continuous_features\":df.columns.to_list()[:-1],\n",
    "    \"multi_label_categorical_features\":[],\n",
    "    \"target\":df.columns.to_list()[-1:],\n",
    "    \"yeo_transform\":False\n",
    "}\n",
    "\n",
    "save_dir = os.path.join(ROOT, \"experiments/kin8nm/study\")\n",
    "study = OptunaStudy(\n",
    "    df=train_df,\n",
    "    model_config=model_config,\n",
    "    base_config=base_config,\n",
    "    save_folder=save_dir,\n",
    "    n_trials=50,\n",
    "    optimize_model_architecture=False,\n",
    "    optimize_batch_size=True,\n",
    "    optimize_momentum=True,\n",
    "    optimize_mse=True,\n",
    ")\n",
    "\n",
    "#study.run_study()"
   ],
   "metadata": {
    "collapsed": false,
    "pycharm": {
     "name": "#%%\n"
    }
   }
  },
  {
   "cell_type": "code",
   "execution_count": 3,
   "outputs": [
    {
     "name": "stderr",
     "output_type": "stream",
     "text": [
      "[2022-02-02 14:18:34,143    INFO], [models.py:38 - __init__()], Model on device: cpu\n"
     ]
    },
    {
     "name": "stdout",
     "output_type": "stream",
     "text": [
      "Epoch    56: reducing learning rate of group 0 to 8.1255e-04.\n",
      "Epoch    67: reducing learning rate of group 0 to 1.6251e-04.\n",
      "Epoch   183: reducing learning rate of group 0 to 3.2502e-05.\n",
      "Epoch   206: reducing learning rate of group 0 to 6.5004e-06.\n",
      "Epoch   214: reducing learning rate of group 0 to 1.3001e-06.\n"
     ]
    },
    {
     "name": "stderr",
     "output_type": "stream",
     "text": [
      "[2022-02-02 14:22:32,816    INFO], [train.py:312 - train()], Model training stopped after 236 epochs.\n",
      "[2022-02-02 14:22:32,816    INFO], [train.py:313 - train()], Best testing loss: -23.9296\n",
      "[2022-02-02 14:22:32,850    INFO], [models.py:38 - __init__()], Model on device: None\n",
      "[2022-02-02 14:22:32,858    INFO], [models.py:176 - load()], Loading device : cpu\n"
     ]
    },
    {
     "name": "stdout",
     "output_type": "stream",
     "text": [
      "Epoch   222: reducing learning rate of group 0 to 2.6002e-07.\n"
     ]
    }
   ],
   "source": [
    "from qnet.train import Engine\n",
    "\n",
    "train_config = yaml.full_load(open(r\"/Users/jackarmand/Documents/GitHub/quantile-net/qnet/experiments/concrete/study/train_config_02_02_11_55.yaml\"))\n",
    "engine = Engine(\n",
    "    train_config,\n",
    "    model_config,\n",
    "    df_init=train_df\n",
    ")\n",
    "engine.train()\n",
    "dir = engine.save(os.path.join(ROOT, \"experiments/kin8nm/model\"), append_auto_dir=False)\n",
    "engine = Engine.load(dir)"
   ],
   "metadata": {
    "collapsed": false,
    "pycharm": {
     "name": "#%%\n"
    }
   }
  },
  {
   "cell_type": "code",
   "execution_count": 4,
   "outputs": [
    {
     "name": "stderr",
     "output_type": "stream",
     "text": [
      "[2022-02-02 14:22:51,723    INFO], [models.py:38 - __init__()], Model on device: None\n"
     ]
    }
   ],
   "source": [
    "from qnet.predictions import Predictions\n",
    "\n",
    "dir = os.path.join(ROOT, \"experiments/kin8nm/model\")\n",
    "pred_maker = Predictions(dir)\n"
   ],
   "metadata": {
    "collapsed": false,
    "pycharm": {
     "name": "#%%\n"
    }
   }
  },
  {
   "cell_type": "code",
   "execution_count": 5,
   "outputs": [
    {
     "name": "stdout",
     "output_type": "stream",
     "text": [
      "rats\n"
     ]
    },
    {
     "name": "stderr",
     "output_type": "stream",
     "text": [
      "/Users/jackarmand/Documents/GitHub/quantile-net/venv/lib/python3.9/site-packages/numpy/core/_methods.py:163: VisibleDeprecationWarning: Creating an ndarray from ragged nested sequences (which is a list-or-tuple of lists-or-tuples-or ndarrays with different lengths or shapes) is deprecated. If you meant to do this, you must specify 'dtype=object' when creating the ndarray.\n",
      "  arr = asanyarray(a)\n"
     ]
    },
    {
     "data": {
      "text/plain": "array([-1.24428446])"
     },
     "execution_count": 5,
     "metadata": {},
     "output_type": "execute_result"
    }
   ],
   "source": [
    "import numpy as np\n",
    "from qnet.probability import generate_cdf_function\n",
    "\n",
    "log_list = []\n",
    "for row in test_df.index:\n",
    "    qn_predictions = pred_maker.predict(pd.DataFrame(test_df.loc[row]).T)\n",
    "    spline, xmin, xmax = generate_cdf_function(pred_maker.model.config.quantiles, qn_predictions[:-1], la=1)\n",
    "    d_spline = spline.derivative()\n",
    "    likelihood = d_spline(test_df.loc[row][model_config[\"target\"]])\n",
    "    if likelihood<1e-15:\n",
    "        likelihood = 1e-15\n",
    "        print(\"rats\")\n",
    "    log_list.append(-np.log(likelihood))\n",
    "\n",
    "np.mean(log_list)"
   ],
   "metadata": {
    "collapsed": false,
    "pycharm": {
     "name": "#%%\n"
    }
   }
  },
  {
   "cell_type": "code",
   "execution_count": null,
   "outputs": [],
   "source": [
    "import plotly.graph_objs as go\n",
    "\n",
    "\n",
    "\n",
    "fig = go.Figure()\n",
    "fig.add_trace()"
   ],
   "metadata": {
    "collapsed": false,
    "pycharm": {
     "name": "#%%\n"
    }
   }
  }
 ],
 "metadata": {
  "kernelspec": {
   "display_name": "Python 3",
   "language": "python",
   "name": "python3"
  },
  "language_info": {
   "codemirror_mode": {
    "name": "ipython",
    "version": 2
   },
   "file_extension": ".py",
   "mimetype": "text/x-python",
   "name": "python",
   "nbconvert_exporter": "python",
   "pygments_lexer": "ipython2",
   "version": "2.7.6"
  }
 },
 "nbformat": 4,
 "nbformat_minor": 0
}